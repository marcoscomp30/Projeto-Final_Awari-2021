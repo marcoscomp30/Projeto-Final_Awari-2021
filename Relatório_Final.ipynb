{
 "cells": [
  {
   "cell_type": "markdown",
   "metadata": {},
   "source": [
    "## Relatório Final - Valluation / Simulador"
   ]
  },
  {
   "cell_type": "code",
   "execution_count": 16,
   "metadata": {},
   "outputs": [],
   "source": [
    "import pandas as pd\n",
    "import numpy as np\n",
    "from pandas_datareader import data as web\n",
    "import matplotlib.pyplot as plt\n",
    "import seaborn as sns\n",
    "import plotly.express as px\n",
    "pd.set_option('display.float_format', '{:.2f}'.format) \n",
    "#Comando para evitar notações cientificas, nº grandes"
   ]
  },
  {
   "cell_type": "code",
   "execution_count": 17,
   "metadata": {},
   "outputs": [],
   "source": [
    "# Importando CSV\n",
    "dados = pd.read_csv('Ind_TODAS_VALLUATION.csv',error_bad_lines=False, delimiter= ';',\n",
    "                    encoding='ISO-8859-1',thousands=\",\", decimal=\".\")"
   ]
  },
  {
   "cell_type": "code",
   "execution_count": 18,
   "metadata": {},
   "outputs": [
    {
     "data": {
      "text/html": [
       "<div>\n",
       "<style scoped>\n",
       "    .dataframe tbody tr th:only-of-type {\n",
       "        vertical-align: middle;\n",
       "    }\n",
       "\n",
       "    .dataframe tbody tr th {\n",
       "        vertical-align: top;\n",
       "    }\n",
       "\n",
       "    .dataframe thead th {\n",
       "        text-align: right;\n",
       "    }\n",
       "</style>\n",
       "<table border=\"1\" class=\"dataframe\">\n",
       "  <thead>\n",
       "    <tr style=\"text-align: right;\">\n",
       "      <th></th>\n",
       "      <th>Indicador</th>\n",
       "      <th>MGLU</th>\n",
       "      <th>AREZZO</th>\n",
       "      <th>GUAR</th>\n",
       "      <th>RENNER</th>\n",
       "      <th>VVAR</th>\n",
       "    </tr>\n",
       "  </thead>\n",
       "  <tbody>\n",
       "    <tr>\n",
       "      <th>0</th>\n",
       "      <td>FCxDesc</td>\n",
       "      <td>1277.36</td>\n",
       "      <td>-106.41</td>\n",
       "      <td>-2337.82</td>\n",
       "      <td>9502.47</td>\n",
       "      <td>5065.12</td>\n",
       "    </tr>\n",
       "    <tr>\n",
       "      <th>1</th>\n",
       "      <td>Valor_Perpetuidade</td>\n",
       "      <td>2104.98</td>\n",
       "      <td>-1126.32</td>\n",
       "      <td>-14783.22</td>\n",
       "      <td>52336.51</td>\n",
       "      <td>28288.56</td>\n",
       "    </tr>\n",
       "    <tr>\n",
       "      <th>2</th>\n",
       "      <td>Valor_empresa</td>\n",
       "      <td>3382.34</td>\n",
       "      <td>-1232.73</td>\n",
       "      <td>-17121.04</td>\n",
       "      <td>61838.97</td>\n",
       "      <td>33353.69</td>\n",
       "    </tr>\n",
       "    <tr>\n",
       "      <th>3</th>\n",
       "      <td>FCFE</td>\n",
       "      <td>277.47</td>\n",
       "      <td>541.00</td>\n",
       "      <td>2987.00</td>\n",
       "      <td>3970.35</td>\n",
       "      <td>2447.47</td>\n",
       "    </tr>\n",
       "    <tr>\n",
       "      <th>4</th>\n",
       "      <td>FCFF</td>\n",
       "      <td>2399.97</td>\n",
       "      <td>160.72</td>\n",
       "      <td>-314.46</td>\n",
       "      <td>1542.63</td>\n",
       "      <td>7087.01</td>\n",
       "    </tr>\n",
       "  </tbody>\n",
       "</table>\n",
       "</div>"
      ],
      "text/plain": [
       "            Indicador    MGLU   AREZZO      GUAR   RENNER     VVAR\n",
       "0             FCxDesc 1277.36  -106.41  -2337.82  9502.47  5065.12\n",
       "1  Valor_Perpetuidade 2104.98 -1126.32 -14783.22 52336.51 28288.56\n",
       "2       Valor_empresa 3382.34 -1232.73 -17121.04 61838.97 33353.69\n",
       "3                FCFE  277.47   541.00   2987.00  3970.35  2447.47\n",
       "4                FCFF 2399.97   160.72   -314.46  1542.63  7087.01"
      ]
     },
     "execution_count": 18,
     "metadata": {},
     "output_type": "execute_result"
    }
   ],
   "source": [
    "dados"
   ]
  },
  {
   "cell_type": "markdown",
   "metadata": {},
   "source": [
    "#### Transpondo a base para gráficos"
   ]
  },
  {
   "cell_type": "code",
   "execution_count": 19,
   "metadata": {},
   "outputs": [],
   "source": [
    "dados2 = dados.T"
   ]
  },
  {
   "cell_type": "code",
   "execution_count": 20,
   "metadata": {},
   "outputs": [],
   "source": [
    "dados2.columns = dados2.iloc[0]"
   ]
  },
  {
   "cell_type": "code",
   "execution_count": 21,
   "metadata": {},
   "outputs": [],
   "source": [
    "dados2.drop('Indicador',axis=0, inplace=True)"
   ]
  },
  {
   "cell_type": "code",
   "execution_count": 22,
   "metadata": {},
   "outputs": [
    {
     "data": {
      "text/html": [
       "<div>\n",
       "<style scoped>\n",
       "    .dataframe tbody tr th:only-of-type {\n",
       "        vertical-align: middle;\n",
       "    }\n",
       "\n",
       "    .dataframe tbody tr th {\n",
       "        vertical-align: top;\n",
       "    }\n",
       "\n",
       "    .dataframe thead th {\n",
       "        text-align: right;\n",
       "    }\n",
       "</style>\n",
       "<table border=\"1\" class=\"dataframe\">\n",
       "  <thead>\n",
       "    <tr style=\"text-align: right;\">\n",
       "      <th>Indicador</th>\n",
       "      <th>FCxDesc</th>\n",
       "      <th>Valor_Perpetuidade</th>\n",
       "      <th>Valor_empresa</th>\n",
       "      <th>FCFE</th>\n",
       "      <th>FCFF</th>\n",
       "    </tr>\n",
       "  </thead>\n",
       "  <tbody>\n",
       "    <tr>\n",
       "      <th>MGLU</th>\n",
       "      <td>1277.36</td>\n",
       "      <td>2104.98</td>\n",
       "      <td>3382.34</td>\n",
       "      <td>277.47</td>\n",
       "      <td>2399.97</td>\n",
       "    </tr>\n",
       "    <tr>\n",
       "      <th>AREZZO</th>\n",
       "      <td>-106.41</td>\n",
       "      <td>-1126.32</td>\n",
       "      <td>-1232.73</td>\n",
       "      <td>541.00</td>\n",
       "      <td>160.72</td>\n",
       "    </tr>\n",
       "    <tr>\n",
       "      <th>GUAR</th>\n",
       "      <td>-2337.82</td>\n",
       "      <td>-14783.22</td>\n",
       "      <td>-17121.04</td>\n",
       "      <td>2987.00</td>\n",
       "      <td>-314.46</td>\n",
       "    </tr>\n",
       "    <tr>\n",
       "      <th>RENNER</th>\n",
       "      <td>9502.47</td>\n",
       "      <td>52336.51</td>\n",
       "      <td>61838.97</td>\n",
       "      <td>3970.35</td>\n",
       "      <td>1542.63</td>\n",
       "    </tr>\n",
       "    <tr>\n",
       "      <th>VVAR</th>\n",
       "      <td>5065.12</td>\n",
       "      <td>28288.56</td>\n",
       "      <td>33353.69</td>\n",
       "      <td>2447.47</td>\n",
       "      <td>7087.01</td>\n",
       "    </tr>\n",
       "  </tbody>\n",
       "</table>\n",
       "</div>"
      ],
      "text/plain": [
       "Indicador  FCxDesc Valor_Perpetuidade Valor_empresa    FCFE    FCFF\n",
       "MGLU       1277.36            2104.98       3382.34  277.47 2399.97\n",
       "AREZZO     -106.41           -1126.32      -1232.73  541.00  160.72\n",
       "GUAR      -2337.82          -14783.22     -17121.04 2987.00 -314.46\n",
       "RENNER     9502.47           52336.51      61838.97 3970.35 1542.63\n",
       "VVAR       5065.12           28288.56      33353.69 2447.47 7087.01"
      ]
     },
     "execution_count": 22,
     "metadata": {},
     "output_type": "execute_result"
    }
   ],
   "source": [
    "dados2"
   ]
  },
  {
   "cell_type": "markdown",
   "metadata": {},
   "source": [
    "### Gráfico dos indicadores de Valluation das empresas"
   ]
  },
  {
   "cell_type": "code",
   "execution_count": 23,
   "metadata": {},
   "outputs": [
    {
     "data": {
      "application/vnd.plotly.v1+json": {
       "config": {
        "plotlyServerURL": "https://plot.ly"
       },
       "data": [
        {
         "dimensions": [
          {
           "axis": {
            "matches": true
           },
           "label": "FCxDesc",
           "values": [
            1277.3560380000001
           ]
          },
          {
           "axis": {
            "matches": true
           },
           "label": "Valor_Perpetuidade",
           "values": [
            2104.983832
           ]
          },
          {
           "axis": {
            "matches": true
           },
           "label": "Valor_empresa",
           "values": [
            3382.3398700000002
           ]
          },
          {
           "axis": {
            "matches": true
           },
           "label": "FCFE",
           "values": [
            277.473
           ]
          },
          {
           "axis": {
            "matches": true
           },
           "label": "FCFF",
           "values": [
            2399.973
           ]
          }
         ],
         "hovertemplate": "symbol=MGLU<br>%{xaxis.title.text}=%{x}<br>%{yaxis.title.text}=%{y}<br>color=%{marker.color}<extra></extra>",
         "legendgroup": "MGLU",
         "marker": {
          "color": [
           0.8629144854716295
          ],
          "coloraxis": "coloraxis",
          "symbol": "circle"
         },
         "name": "MGLU",
         "showlegend": true,
         "type": "splom"
        },
        {
         "dimensions": [
          {
           "axis": {
            "matches": true
           },
           "label": "FCxDesc",
           "values": [
            -106.4095235
           ]
          },
          {
           "axis": {
            "matches": true
           },
           "label": "Valor_Perpetuidade",
           "values": [
            -1126.318702
           ]
          },
          {
           "axis": {
            "matches": true
           },
           "label": "Valor_empresa",
           "values": [
            -1232.728225
           ]
          },
          {
           "axis": {
            "matches": true
           },
           "label": "FCFE",
           "values": [
            541
           ]
          },
          {
           "axis": {
            "matches": true
           },
           "label": "FCFF",
           "values": [
            160.72
           ]
          }
         ],
         "hovertemplate": "symbol=AREZZO<br>%{xaxis.title.text}=%{x}<br>%{yaxis.title.text}=%{y}<br>color=%{marker.color}<extra></extra>",
         "legendgroup": "AREZZO",
         "marker": {
          "color": [
           -1.1572330000104272
          ],
          "coloraxis": "coloraxis",
          "symbol": "diamond"
         },
         "name": "AREZZO",
         "showlegend": true,
         "type": "splom"
        },
        {
         "dimensions": [
          {
           "axis": {
            "matches": true
           },
           "label": "FCxDesc",
           "values": [
            -2337.822591
           ]
          },
          {
           "axis": {
            "matches": true
           },
           "label": "Valor_Perpetuidade",
           "values": [
            -14783.21547
           ]
          },
          {
           "axis": {
            "matches": true
           },
           "label": "Valor_empresa",
           "values": [
            -17121.03807
           ]
          },
          {
           "axis": {
            "matches": true
           },
           "label": "FCFE",
           "values": [
            2987
           ]
          },
          {
           "axis": {
            "matches": true
           },
           "label": "FCFF",
           "values": [
            -314.46
           ]
          }
         ],
         "hovertemplate": "symbol=GUAR<br>%{xaxis.title.text}=%{x}<br>%{yaxis.title.text}=%{y}<br>color=%{marker.color}<extra></extra>",
         "legendgroup": "GUAR",
         "marker": {
          "color": [
           -0.44378995422107054
          ],
          "coloraxis": "coloraxis",
          "symbol": "square"
         },
         "name": "GUAR",
         "showlegend": true,
         "type": "splom"
        },
        {
         "dimensions": [
          {
           "axis": {
            "matches": true
           },
           "label": "FCxDesc",
           "values": [
            9502.468306
           ]
          },
          {
           "axis": {
            "matches": true
           },
           "label": "Valor_Perpetuidade",
           "values": [
            52336.505939999995
           ]
          },
          {
           "axis": {
            "matches": true
           },
           "label": "Valor_empresa",
           "values": [
            61838.97425
           ]
          },
          {
           "axis": {
            "matches": true
           },
           "label": "FCFE",
           "values": [
            3970.3520000000003
           ]
          },
          {
           "axis": {
            "matches": true
           },
           "label": "FCFF",
           "values": [
            1542.632
           ]
          }
         ],
         "hovertemplate": "symbol=RENNER<br>%{xaxis.title.text}=%{x}<br>%{yaxis.title.text}=%{y}<br>color=%{marker.color}<extra></extra>",
         "legendgroup": "RENNER",
         "marker": {
          "color": [
           0.1942953815272387
          ],
          "coloraxis": "coloraxis",
          "symbol": "x"
         },
         "name": "RENNER",
         "showlegend": true,
         "type": "splom"
        },
        {
         "dimensions": [
          {
           "axis": {
            "matches": true
           },
           "label": "FCxDesc",
           "values": [
            5065.122651
           ]
          },
          {
           "axis": {
            "matches": true
           },
           "label": "Valor_Perpetuidade",
           "values": [
            28288.564469999998
           ]
          },
          {
           "axis": {
            "matches": true
           },
           "label": "Valor_empresa",
           "values": [
            33353.68712
           ]
          },
          {
           "axis": {
            "matches": true
           },
           "label": "FCFE",
           "values": [
            2447.469
           ]
          },
          {
           "axis": {
            "matches": true
           },
           "label": "FCFF",
           "values": [
            7087.009
           ]
          }
         ],
         "hovertemplate": "symbol=VVAR<br>%{xaxis.title.text}=%{x}<br>%{yaxis.title.text}=%{y}<br>color=%{marker.color}<extra></extra>",
         "legendgroup": "VVAR",
         "marker": {
          "color": [
           1.0840858088386687
          ],
          "coloraxis": "coloraxis",
          "symbol": "cross"
         },
         "name": "VVAR",
         "showlegend": true,
         "type": "splom"
        }
       ],
       "layout": {
        "coloraxis": {
         "colorbar": {
          "title": {
           "text": "color"
          }
         },
         "colorscale": [
          [
           0,
           "#440154"
          ],
          [
           0.1111111111111111,
           "#482878"
          ],
          [
           0.2222222222222222,
           "#3e4989"
          ],
          [
           0.3333333333333333,
           "#31688e"
          ],
          [
           0.4444444444444444,
           "#26828e"
          ],
          [
           0.5555555555555556,
           "#1f9e89"
          ],
          [
           0.6666666666666666,
           "#35b779"
          ],
          [
           0.7777777777777778,
           "#6ece58"
          ],
          [
           0.8888888888888888,
           "#b5de2b"
          ],
          [
           1,
           "#fde725"
          ]
         ]
        },
        "dragmode": "select",
        "legend": {
         "title": {
          "text": "symbol"
         },
         "tracegroupgap": 0
        },
        "margin": {
         "t": 60
        },
        "template": {
         "data": {
          "bar": [
           {
            "error_x": {
             "color": "#2a3f5f"
            },
            "error_y": {
             "color": "#2a3f5f"
            },
            "marker": {
             "line": {
              "color": "#E5ECF6",
              "width": 0.5
             }
            },
            "type": "bar"
           }
          ],
          "barpolar": [
           {
            "marker": {
             "line": {
              "color": "#E5ECF6",
              "width": 0.5
             }
            },
            "type": "barpolar"
           }
          ],
          "carpet": [
           {
            "aaxis": {
             "endlinecolor": "#2a3f5f",
             "gridcolor": "white",
             "linecolor": "white",
             "minorgridcolor": "white",
             "startlinecolor": "#2a3f5f"
            },
            "baxis": {
             "endlinecolor": "#2a3f5f",
             "gridcolor": "white",
             "linecolor": "white",
             "minorgridcolor": "white",
             "startlinecolor": "#2a3f5f"
            },
            "type": "carpet"
           }
          ],
          "choropleth": [
           {
            "colorbar": {
             "outlinewidth": 0,
             "ticks": ""
            },
            "type": "choropleth"
           }
          ],
          "contour": [
           {
            "colorbar": {
             "outlinewidth": 0,
             "ticks": ""
            },
            "colorscale": [
             [
              0,
              "#0d0887"
             ],
             [
              0.1111111111111111,
              "#46039f"
             ],
             [
              0.2222222222222222,
              "#7201a8"
             ],
             [
              0.3333333333333333,
              "#9c179e"
             ],
             [
              0.4444444444444444,
              "#bd3786"
             ],
             [
              0.5555555555555556,
              "#d8576b"
             ],
             [
              0.6666666666666666,
              "#ed7953"
             ],
             [
              0.7777777777777778,
              "#fb9f3a"
             ],
             [
              0.8888888888888888,
              "#fdca26"
             ],
             [
              1,
              "#f0f921"
             ]
            ],
            "type": "contour"
           }
          ],
          "contourcarpet": [
           {
            "colorbar": {
             "outlinewidth": 0,
             "ticks": ""
            },
            "type": "contourcarpet"
           }
          ],
          "heatmap": [
           {
            "colorbar": {
             "outlinewidth": 0,
             "ticks": ""
            },
            "colorscale": [
             [
              0,
              "#0d0887"
             ],
             [
              0.1111111111111111,
              "#46039f"
             ],
             [
              0.2222222222222222,
              "#7201a8"
             ],
             [
              0.3333333333333333,
              "#9c179e"
             ],
             [
              0.4444444444444444,
              "#bd3786"
             ],
             [
              0.5555555555555556,
              "#d8576b"
             ],
             [
              0.6666666666666666,
              "#ed7953"
             ],
             [
              0.7777777777777778,
              "#fb9f3a"
             ],
             [
              0.8888888888888888,
              "#fdca26"
             ],
             [
              1,
              "#f0f921"
             ]
            ],
            "type": "heatmap"
           }
          ],
          "heatmapgl": [
           {
            "colorbar": {
             "outlinewidth": 0,
             "ticks": ""
            },
            "colorscale": [
             [
              0,
              "#0d0887"
             ],
             [
              0.1111111111111111,
              "#46039f"
             ],
             [
              0.2222222222222222,
              "#7201a8"
             ],
             [
              0.3333333333333333,
              "#9c179e"
             ],
             [
              0.4444444444444444,
              "#bd3786"
             ],
             [
              0.5555555555555556,
              "#d8576b"
             ],
             [
              0.6666666666666666,
              "#ed7953"
             ],
             [
              0.7777777777777778,
              "#fb9f3a"
             ],
             [
              0.8888888888888888,
              "#fdca26"
             ],
             [
              1,
              "#f0f921"
             ]
            ],
            "type": "heatmapgl"
           }
          ],
          "histogram": [
           {
            "marker": {
             "colorbar": {
              "outlinewidth": 0,
              "ticks": ""
             }
            },
            "type": "histogram"
           }
          ],
          "histogram2d": [
           {
            "colorbar": {
             "outlinewidth": 0,
             "ticks": ""
            },
            "colorscale": [
             [
              0,
              "#0d0887"
             ],
             [
              0.1111111111111111,
              "#46039f"
             ],
             [
              0.2222222222222222,
              "#7201a8"
             ],
             [
              0.3333333333333333,
              "#9c179e"
             ],
             [
              0.4444444444444444,
              "#bd3786"
             ],
             [
              0.5555555555555556,
              "#d8576b"
             ],
             [
              0.6666666666666666,
              "#ed7953"
             ],
             [
              0.7777777777777778,
              "#fb9f3a"
             ],
             [
              0.8888888888888888,
              "#fdca26"
             ],
             [
              1,
              "#f0f921"
             ]
            ],
            "type": "histogram2d"
           }
          ],
          "histogram2dcontour": [
           {
            "colorbar": {
             "outlinewidth": 0,
             "ticks": ""
            },
            "colorscale": [
             [
              0,
              "#0d0887"
             ],
             [
              0.1111111111111111,
              "#46039f"
             ],
             [
              0.2222222222222222,
              "#7201a8"
             ],
             [
              0.3333333333333333,
              "#9c179e"
             ],
             [
              0.4444444444444444,
              "#bd3786"
             ],
             [
              0.5555555555555556,
              "#d8576b"
             ],
             [
              0.6666666666666666,
              "#ed7953"
             ],
             [
              0.7777777777777778,
              "#fb9f3a"
             ],
             [
              0.8888888888888888,
              "#fdca26"
             ],
             [
              1,
              "#f0f921"
             ]
            ],
            "type": "histogram2dcontour"
           }
          ],
          "mesh3d": [
           {
            "colorbar": {
             "outlinewidth": 0,
             "ticks": ""
            },
            "type": "mesh3d"
           }
          ],
          "parcoords": [
           {
            "line": {
             "colorbar": {
              "outlinewidth": 0,
              "ticks": ""
             }
            },
            "type": "parcoords"
           }
          ],
          "pie": [
           {
            "automargin": true,
            "type": "pie"
           }
          ],
          "scatter": [
           {
            "marker": {
             "colorbar": {
              "outlinewidth": 0,
              "ticks": ""
             }
            },
            "type": "scatter"
           }
          ],
          "scatter3d": [
           {
            "line": {
             "colorbar": {
              "outlinewidth": 0,
              "ticks": ""
             }
            },
            "marker": {
             "colorbar": {
              "outlinewidth": 0,
              "ticks": ""
             }
            },
            "type": "scatter3d"
           }
          ],
          "scattercarpet": [
           {
            "marker": {
             "colorbar": {
              "outlinewidth": 0,
              "ticks": ""
             }
            },
            "type": "scattercarpet"
           }
          ],
          "scattergeo": [
           {
            "marker": {
             "colorbar": {
              "outlinewidth": 0,
              "ticks": ""
             }
            },
            "type": "scattergeo"
           }
          ],
          "scattergl": [
           {
            "marker": {
             "colorbar": {
              "outlinewidth": 0,
              "ticks": ""
             }
            },
            "type": "scattergl"
           }
          ],
          "scattermapbox": [
           {
            "marker": {
             "colorbar": {
              "outlinewidth": 0,
              "ticks": ""
             }
            },
            "type": "scattermapbox"
           }
          ],
          "scatterpolar": [
           {
            "marker": {
             "colorbar": {
              "outlinewidth": 0,
              "ticks": ""
             }
            },
            "type": "scatterpolar"
           }
          ],
          "scatterpolargl": [
           {
            "marker": {
             "colorbar": {
              "outlinewidth": 0,
              "ticks": ""
             }
            },
            "type": "scatterpolargl"
           }
          ],
          "scatterternary": [
           {
            "marker": {
             "colorbar": {
              "outlinewidth": 0,
              "ticks": ""
             }
            },
            "type": "scatterternary"
           }
          ],
          "surface": [
           {
            "colorbar": {
             "outlinewidth": 0,
             "ticks": ""
            },
            "colorscale": [
             [
              0,
              "#0d0887"
             ],
             [
              0.1111111111111111,
              "#46039f"
             ],
             [
              0.2222222222222222,
              "#7201a8"
             ],
             [
              0.3333333333333333,
              "#9c179e"
             ],
             [
              0.4444444444444444,
              "#bd3786"
             ],
             [
              0.5555555555555556,
              "#d8576b"
             ],
             [
              0.6666666666666666,
              "#ed7953"
             ],
             [
              0.7777777777777778,
              "#fb9f3a"
             ],
             [
              0.8888888888888888,
              "#fdca26"
             ],
             [
              1,
              "#f0f921"
             ]
            ],
            "type": "surface"
           }
          ],
          "table": [
           {
            "cells": {
             "fill": {
              "color": "#EBF0F8"
             },
             "line": {
              "color": "white"
             }
            },
            "header": {
             "fill": {
              "color": "#C8D4E3"
             },
             "line": {
              "color": "white"
             }
            },
            "type": "table"
           }
          ]
         },
         "layout": {
          "annotationdefaults": {
           "arrowcolor": "#2a3f5f",
           "arrowhead": 0,
           "arrowwidth": 1
          },
          "autotypenumbers": "strict",
          "coloraxis": {
           "colorbar": {
            "outlinewidth": 0,
            "ticks": ""
           }
          },
          "colorscale": {
           "diverging": [
            [
             0,
             "#8e0152"
            ],
            [
             0.1,
             "#c51b7d"
            ],
            [
             0.2,
             "#de77ae"
            ],
            [
             0.3,
             "#f1b6da"
            ],
            [
             0.4,
             "#fde0ef"
            ],
            [
             0.5,
             "#f7f7f7"
            ],
            [
             0.6,
             "#e6f5d0"
            ],
            [
             0.7,
             "#b8e186"
            ],
            [
             0.8,
             "#7fbc41"
            ],
            [
             0.9,
             "#4d9221"
            ],
            [
             1,
             "#276419"
            ]
           ],
           "sequential": [
            [
             0,
             "#0d0887"
            ],
            [
             0.1111111111111111,
             "#46039f"
            ],
            [
             0.2222222222222222,
             "#7201a8"
            ],
            [
             0.3333333333333333,
             "#9c179e"
            ],
            [
             0.4444444444444444,
             "#bd3786"
            ],
            [
             0.5555555555555556,
             "#d8576b"
            ],
            [
             0.6666666666666666,
             "#ed7953"
            ],
            [
             0.7777777777777778,
             "#fb9f3a"
            ],
            [
             0.8888888888888888,
             "#fdca26"
            ],
            [
             1,
             "#f0f921"
            ]
           ],
           "sequentialminus": [
            [
             0,
             "#0d0887"
            ],
            [
             0.1111111111111111,
             "#46039f"
            ],
            [
             0.2222222222222222,
             "#7201a8"
            ],
            [
             0.3333333333333333,
             "#9c179e"
            ],
            [
             0.4444444444444444,
             "#bd3786"
            ],
            [
             0.5555555555555556,
             "#d8576b"
            ],
            [
             0.6666666666666666,
             "#ed7953"
            ],
            [
             0.7777777777777778,
             "#fb9f3a"
            ],
            [
             0.8888888888888888,
             "#fdca26"
            ],
            [
             1,
             "#f0f921"
            ]
           ]
          },
          "colorway": [
           "#636efa",
           "#EF553B",
           "#00cc96",
           "#ab63fa",
           "#FFA15A",
           "#19d3f3",
           "#FF6692",
           "#B6E880",
           "#FF97FF",
           "#FECB52"
          ],
          "font": {
           "color": "#2a3f5f"
          },
          "geo": {
           "bgcolor": "white",
           "lakecolor": "white",
           "landcolor": "#E5ECF6",
           "showlakes": true,
           "showland": true,
           "subunitcolor": "white"
          },
          "hoverlabel": {
           "align": "left"
          },
          "hovermode": "closest",
          "mapbox": {
           "style": "light"
          },
          "paper_bgcolor": "white",
          "plot_bgcolor": "#E5ECF6",
          "polar": {
           "angularaxis": {
            "gridcolor": "white",
            "linecolor": "white",
            "ticks": ""
           },
           "bgcolor": "#E5ECF6",
           "radialaxis": {
            "gridcolor": "white",
            "linecolor": "white",
            "ticks": ""
           }
          },
          "scene": {
           "xaxis": {
            "backgroundcolor": "#E5ECF6",
            "gridcolor": "white",
            "gridwidth": 2,
            "linecolor": "white",
            "showbackground": true,
            "ticks": "",
            "zerolinecolor": "white"
           },
           "yaxis": {
            "backgroundcolor": "#E5ECF6",
            "gridcolor": "white",
            "gridwidth": 2,
            "linecolor": "white",
            "showbackground": true,
            "ticks": "",
            "zerolinecolor": "white"
           },
           "zaxis": {
            "backgroundcolor": "#E5ECF6",
            "gridcolor": "white",
            "gridwidth": 2,
            "linecolor": "white",
            "showbackground": true,
            "ticks": "",
            "zerolinecolor": "white"
           }
          },
          "shapedefaults": {
           "line": {
            "color": "#2a3f5f"
           }
          },
          "ternary": {
           "aaxis": {
            "gridcolor": "white",
            "linecolor": "white",
            "ticks": ""
           },
           "baxis": {
            "gridcolor": "white",
            "linecolor": "white",
            "ticks": ""
           },
           "bgcolor": "#E5ECF6",
           "caxis": {
            "gridcolor": "white",
            "linecolor": "white",
            "ticks": ""
           }
          },
          "title": {
           "x": 0.05
          },
          "xaxis": {
           "automargin": true,
           "gridcolor": "white",
           "linecolor": "white",
           "ticks": "",
           "title": {
            "standoff": 15
           },
           "zerolinecolor": "white",
           "zerolinewidth": 2
          },
          "yaxis": {
           "automargin": true,
           "gridcolor": "white",
           "linecolor": "white",
           "ticks": "",
           "title": {
            "standoff": 15
           },
           "zerolinecolor": "white",
           "zerolinewidth": 2
          }
         }
        }
       }
      },
      "text/html": [
       "<div>                            <div id=\"27e764ac-c72b-4d9d-949d-4a2ff6ef1b6e\" class=\"plotly-graph-div\" style=\"height:525px; width:100%;\"></div>            <script type=\"text/javascript\">                require([\"plotly\"], function(Plotly) {                    window.PLOTLYENV=window.PLOTLYENV || {};                                    if (document.getElementById(\"27e764ac-c72b-4d9d-949d-4a2ff6ef1b6e\")) {                    Plotly.newPlot(                        \"27e764ac-c72b-4d9d-949d-4a2ff6ef1b6e\",                        [{\"dimensions\": [{\"axis\": {\"matches\": true}, \"label\": \"FCxDesc\", \"values\": [1277.3560380000001]}, {\"axis\": {\"matches\": true}, \"label\": \"Valor_Perpetuidade\", \"values\": [2104.983832]}, {\"axis\": {\"matches\": true}, \"label\": \"Valor_empresa\", \"values\": [3382.3398700000002]}, {\"axis\": {\"matches\": true}, \"label\": \"FCFE\", \"values\": [277.473]}, {\"axis\": {\"matches\": true}, \"label\": \"FCFF\", \"values\": [2399.973]}], \"hovertemplate\": \"symbol=MGLU<br>%{xaxis.title.text}=%{x}<br>%{yaxis.title.text}=%{y}<br>color=%{marker.color}<extra></extra>\", \"legendgroup\": \"MGLU\", \"marker\": {\"color\": [0.8629144854716295], \"coloraxis\": \"coloraxis\", \"symbol\": \"circle\"}, \"name\": \"MGLU\", \"showlegend\": true, \"type\": \"splom\"}, {\"dimensions\": [{\"axis\": {\"matches\": true}, \"label\": \"FCxDesc\", \"values\": [-106.4095235]}, {\"axis\": {\"matches\": true}, \"label\": \"Valor_Perpetuidade\", \"values\": [-1126.318702]}, {\"axis\": {\"matches\": true}, \"label\": \"Valor_empresa\", \"values\": [-1232.728225]}, {\"axis\": {\"matches\": true}, \"label\": \"FCFE\", \"values\": [541.0]}, {\"axis\": {\"matches\": true}, \"label\": \"FCFF\", \"values\": [160.72]}], \"hovertemplate\": \"symbol=AREZZO<br>%{xaxis.title.text}=%{x}<br>%{yaxis.title.text}=%{y}<br>color=%{marker.color}<extra></extra>\", \"legendgroup\": \"AREZZO\", \"marker\": {\"color\": [-1.1572330000104272], \"coloraxis\": \"coloraxis\", \"symbol\": \"diamond\"}, \"name\": \"AREZZO\", \"showlegend\": true, \"type\": \"splom\"}, {\"dimensions\": [{\"axis\": {\"matches\": true}, \"label\": \"FCxDesc\", \"values\": [-2337.822591]}, {\"axis\": {\"matches\": true}, \"label\": \"Valor_Perpetuidade\", \"values\": [-14783.21547]}, {\"axis\": {\"matches\": true}, \"label\": \"Valor_empresa\", \"values\": [-17121.03807]}, {\"axis\": {\"matches\": true}, \"label\": \"FCFE\", \"values\": [2987.0]}, {\"axis\": {\"matches\": true}, \"label\": \"FCFF\", \"values\": [-314.46]}], \"hovertemplate\": \"symbol=GUAR<br>%{xaxis.title.text}=%{x}<br>%{yaxis.title.text}=%{y}<br>color=%{marker.color}<extra></extra>\", \"legendgroup\": \"GUAR\", \"marker\": {\"color\": [-0.44378995422107054], \"coloraxis\": \"coloraxis\", \"symbol\": \"square\"}, \"name\": \"GUAR\", \"showlegend\": true, \"type\": \"splom\"}, {\"dimensions\": [{\"axis\": {\"matches\": true}, \"label\": \"FCxDesc\", \"values\": [9502.468306]}, {\"axis\": {\"matches\": true}, \"label\": \"Valor_Perpetuidade\", \"values\": [52336.505939999995]}, {\"axis\": {\"matches\": true}, \"label\": \"Valor_empresa\", \"values\": [61838.97425]}, {\"axis\": {\"matches\": true}, \"label\": \"FCFE\", \"values\": [3970.3520000000003]}, {\"axis\": {\"matches\": true}, \"label\": \"FCFF\", \"values\": [1542.632]}], \"hovertemplate\": \"symbol=RENNER<br>%{xaxis.title.text}=%{x}<br>%{yaxis.title.text}=%{y}<br>color=%{marker.color}<extra></extra>\", \"legendgroup\": \"RENNER\", \"marker\": {\"color\": [0.1942953815272387], \"coloraxis\": \"coloraxis\", \"symbol\": \"x\"}, \"name\": \"RENNER\", \"showlegend\": true, \"type\": \"splom\"}, {\"dimensions\": [{\"axis\": {\"matches\": true}, \"label\": \"FCxDesc\", \"values\": [5065.122651]}, {\"axis\": {\"matches\": true}, \"label\": \"Valor_Perpetuidade\", \"values\": [28288.564469999998]}, {\"axis\": {\"matches\": true}, \"label\": \"Valor_empresa\", \"values\": [33353.68712]}, {\"axis\": {\"matches\": true}, \"label\": \"FCFE\", \"values\": [2447.469]}, {\"axis\": {\"matches\": true}, \"label\": \"FCFF\", \"values\": [7087.009]}], \"hovertemplate\": \"symbol=VVAR<br>%{xaxis.title.text}=%{x}<br>%{yaxis.title.text}=%{y}<br>color=%{marker.color}<extra></extra>\", \"legendgroup\": \"VVAR\", \"marker\": {\"color\": [1.0840858088386687], \"coloraxis\": \"coloraxis\", \"symbol\": \"cross\"}, \"name\": \"VVAR\", \"showlegend\": true, \"type\": \"splom\"}],                        {\"coloraxis\": {\"colorbar\": {\"title\": {\"text\": \"color\"}}, \"colorscale\": [[0.0, \"#440154\"], [0.1111111111111111, \"#482878\"], [0.2222222222222222, \"#3e4989\"], [0.3333333333333333, \"#31688e\"], [0.4444444444444444, \"#26828e\"], [0.5555555555555556, \"#1f9e89\"], [0.6666666666666666, \"#35b779\"], [0.7777777777777778, \"#6ece58\"], [0.8888888888888888, \"#b5de2b\"], [1.0, \"#fde725\"]]}, \"dragmode\": \"select\", \"legend\": {\"title\": {\"text\": \"symbol\"}, \"tracegroupgap\": 0}, \"margin\": {\"t\": 60}, \"template\": {\"data\": {\"bar\": [{\"error_x\": {\"color\": \"#2a3f5f\"}, \"error_y\": {\"color\": \"#2a3f5f\"}, \"marker\": {\"line\": {\"color\": \"#E5ECF6\", \"width\": 0.5}}, \"type\": \"bar\"}], \"barpolar\": [{\"marker\": {\"line\": {\"color\": \"#E5ECF6\", \"width\": 0.5}}, \"type\": \"barpolar\"}], \"carpet\": [{\"aaxis\": {\"endlinecolor\": \"#2a3f5f\", \"gridcolor\": \"white\", \"linecolor\": \"white\", \"minorgridcolor\": \"white\", \"startlinecolor\": \"#2a3f5f\"}, \"baxis\": {\"endlinecolor\": \"#2a3f5f\", \"gridcolor\": \"white\", \"linecolor\": \"white\", \"minorgridcolor\": \"white\", \"startlinecolor\": \"#2a3f5f\"}, \"type\": \"carpet\"}], \"choropleth\": [{\"colorbar\": {\"outlinewidth\": 0, \"ticks\": \"\"}, \"type\": \"choropleth\"}], \"contour\": [{\"colorbar\": {\"outlinewidth\": 0, \"ticks\": \"\"}, \"colorscale\": [[0.0, \"#0d0887\"], [0.1111111111111111, \"#46039f\"], [0.2222222222222222, \"#7201a8\"], [0.3333333333333333, \"#9c179e\"], [0.4444444444444444, \"#bd3786\"], [0.5555555555555556, \"#d8576b\"], [0.6666666666666666, \"#ed7953\"], [0.7777777777777778, \"#fb9f3a\"], [0.8888888888888888, \"#fdca26\"], [1.0, \"#f0f921\"]], \"type\": \"contour\"}], \"contourcarpet\": [{\"colorbar\": {\"outlinewidth\": 0, \"ticks\": \"\"}, \"type\": \"contourcarpet\"}], \"heatmap\": [{\"colorbar\": {\"outlinewidth\": 0, \"ticks\": \"\"}, \"colorscale\": [[0.0, \"#0d0887\"], [0.1111111111111111, \"#46039f\"], [0.2222222222222222, \"#7201a8\"], [0.3333333333333333, \"#9c179e\"], [0.4444444444444444, \"#bd3786\"], [0.5555555555555556, \"#d8576b\"], [0.6666666666666666, \"#ed7953\"], [0.7777777777777778, \"#fb9f3a\"], [0.8888888888888888, \"#fdca26\"], [1.0, \"#f0f921\"]], \"type\": \"heatmap\"}], \"heatmapgl\": [{\"colorbar\": {\"outlinewidth\": 0, \"ticks\": \"\"}, \"colorscale\": [[0.0, \"#0d0887\"], [0.1111111111111111, \"#46039f\"], [0.2222222222222222, \"#7201a8\"], [0.3333333333333333, \"#9c179e\"], [0.4444444444444444, \"#bd3786\"], [0.5555555555555556, \"#d8576b\"], [0.6666666666666666, \"#ed7953\"], [0.7777777777777778, \"#fb9f3a\"], [0.8888888888888888, \"#fdca26\"], [1.0, \"#f0f921\"]], \"type\": \"heatmapgl\"}], \"histogram\": [{\"marker\": {\"colorbar\": {\"outlinewidth\": 0, \"ticks\": \"\"}}, \"type\": \"histogram\"}], \"histogram2d\": [{\"colorbar\": {\"outlinewidth\": 0, \"ticks\": \"\"}, \"colorscale\": [[0.0, \"#0d0887\"], [0.1111111111111111, \"#46039f\"], [0.2222222222222222, \"#7201a8\"], [0.3333333333333333, \"#9c179e\"], [0.4444444444444444, \"#bd3786\"], [0.5555555555555556, \"#d8576b\"], [0.6666666666666666, \"#ed7953\"], [0.7777777777777778, \"#fb9f3a\"], [0.8888888888888888, \"#fdca26\"], [1.0, \"#f0f921\"]], \"type\": \"histogram2d\"}], \"histogram2dcontour\": [{\"colorbar\": {\"outlinewidth\": 0, \"ticks\": \"\"}, \"colorscale\": [[0.0, \"#0d0887\"], [0.1111111111111111, \"#46039f\"], [0.2222222222222222, \"#7201a8\"], [0.3333333333333333, \"#9c179e\"], [0.4444444444444444, \"#bd3786\"], [0.5555555555555556, \"#d8576b\"], [0.6666666666666666, \"#ed7953\"], [0.7777777777777778, \"#fb9f3a\"], [0.8888888888888888, \"#fdca26\"], [1.0, \"#f0f921\"]], \"type\": \"histogram2dcontour\"}], \"mesh3d\": [{\"colorbar\": {\"outlinewidth\": 0, \"ticks\": \"\"}, \"type\": \"mesh3d\"}], \"parcoords\": [{\"line\": {\"colorbar\": {\"outlinewidth\": 0, \"ticks\": \"\"}}, \"type\": \"parcoords\"}], \"pie\": [{\"automargin\": true, \"type\": \"pie\"}], \"scatter\": [{\"marker\": {\"colorbar\": {\"outlinewidth\": 0, \"ticks\": \"\"}}, \"type\": \"scatter\"}], \"scatter3d\": [{\"line\": {\"colorbar\": {\"outlinewidth\": 0, \"ticks\": \"\"}}, \"marker\": {\"colorbar\": {\"outlinewidth\": 0, \"ticks\": \"\"}}, \"type\": \"scatter3d\"}], \"scattercarpet\": [{\"marker\": {\"colorbar\": {\"outlinewidth\": 0, \"ticks\": \"\"}}, \"type\": \"scattercarpet\"}], \"scattergeo\": [{\"marker\": {\"colorbar\": {\"outlinewidth\": 0, \"ticks\": \"\"}}, \"type\": \"scattergeo\"}], \"scattergl\": [{\"marker\": {\"colorbar\": {\"outlinewidth\": 0, \"ticks\": \"\"}}, \"type\": \"scattergl\"}], \"scattermapbox\": [{\"marker\": {\"colorbar\": {\"outlinewidth\": 0, \"ticks\": \"\"}}, \"type\": \"scattermapbox\"}], \"scatterpolar\": [{\"marker\": {\"colorbar\": {\"outlinewidth\": 0, \"ticks\": \"\"}}, \"type\": \"scatterpolar\"}], \"scatterpolargl\": [{\"marker\": {\"colorbar\": {\"outlinewidth\": 0, \"ticks\": \"\"}}, \"type\": \"scatterpolargl\"}], \"scatterternary\": [{\"marker\": {\"colorbar\": {\"outlinewidth\": 0, \"ticks\": \"\"}}, \"type\": \"scatterternary\"}], \"surface\": [{\"colorbar\": {\"outlinewidth\": 0, \"ticks\": \"\"}, \"colorscale\": [[0.0, \"#0d0887\"], [0.1111111111111111, \"#46039f\"], [0.2222222222222222, \"#7201a8\"], [0.3333333333333333, \"#9c179e\"], [0.4444444444444444, \"#bd3786\"], [0.5555555555555556, \"#d8576b\"], [0.6666666666666666, \"#ed7953\"], [0.7777777777777778, \"#fb9f3a\"], [0.8888888888888888, \"#fdca26\"], [1.0, \"#f0f921\"]], \"type\": \"surface\"}], \"table\": [{\"cells\": {\"fill\": {\"color\": \"#EBF0F8\"}, \"line\": {\"color\": \"white\"}}, \"header\": {\"fill\": {\"color\": \"#C8D4E3\"}, \"line\": {\"color\": \"white\"}}, \"type\": \"table\"}]}, \"layout\": {\"annotationdefaults\": {\"arrowcolor\": \"#2a3f5f\", \"arrowhead\": 0, \"arrowwidth\": 1}, \"autotypenumbers\": \"strict\", \"coloraxis\": {\"colorbar\": {\"outlinewidth\": 0, \"ticks\": \"\"}}, \"colorscale\": {\"diverging\": [[0, \"#8e0152\"], [0.1, \"#c51b7d\"], [0.2, \"#de77ae\"], [0.3, \"#f1b6da\"], [0.4, \"#fde0ef\"], [0.5, \"#f7f7f7\"], [0.6, \"#e6f5d0\"], [0.7, \"#b8e186\"], [0.8, \"#7fbc41\"], [0.9, \"#4d9221\"], [1, \"#276419\"]], \"sequential\": [[0.0, \"#0d0887\"], [0.1111111111111111, \"#46039f\"], [0.2222222222222222, \"#7201a8\"], [0.3333333333333333, \"#9c179e\"], [0.4444444444444444, \"#bd3786\"], [0.5555555555555556, \"#d8576b\"], [0.6666666666666666, \"#ed7953\"], [0.7777777777777778, \"#fb9f3a\"], [0.8888888888888888, \"#fdca26\"], [1.0, \"#f0f921\"]], \"sequentialminus\": [[0.0, \"#0d0887\"], [0.1111111111111111, \"#46039f\"], [0.2222222222222222, \"#7201a8\"], [0.3333333333333333, \"#9c179e\"], [0.4444444444444444, \"#bd3786\"], [0.5555555555555556, \"#d8576b\"], [0.6666666666666666, \"#ed7953\"], [0.7777777777777778, \"#fb9f3a\"], [0.8888888888888888, \"#fdca26\"], [1.0, \"#f0f921\"]]}, \"colorway\": [\"#636efa\", \"#EF553B\", \"#00cc96\", \"#ab63fa\", \"#FFA15A\", \"#19d3f3\", \"#FF6692\", \"#B6E880\", \"#FF97FF\", \"#FECB52\"], \"font\": {\"color\": \"#2a3f5f\"}, \"geo\": {\"bgcolor\": \"white\", \"lakecolor\": \"white\", \"landcolor\": \"#E5ECF6\", \"showlakes\": true, \"showland\": true, \"subunitcolor\": \"white\"}, \"hoverlabel\": {\"align\": \"left\"}, \"hovermode\": \"closest\", \"mapbox\": {\"style\": \"light\"}, \"paper_bgcolor\": \"white\", \"plot_bgcolor\": \"#E5ECF6\", \"polar\": {\"angularaxis\": {\"gridcolor\": \"white\", \"linecolor\": \"white\", \"ticks\": \"\"}, \"bgcolor\": \"#E5ECF6\", \"radialaxis\": {\"gridcolor\": \"white\", \"linecolor\": \"white\", \"ticks\": \"\"}}, \"scene\": {\"xaxis\": {\"backgroundcolor\": \"#E5ECF6\", \"gridcolor\": \"white\", \"gridwidth\": 2, \"linecolor\": \"white\", \"showbackground\": true, \"ticks\": \"\", \"zerolinecolor\": \"white\"}, \"yaxis\": {\"backgroundcolor\": \"#E5ECF6\", \"gridcolor\": \"white\", \"gridwidth\": 2, \"linecolor\": \"white\", \"showbackground\": true, \"ticks\": \"\", \"zerolinecolor\": \"white\"}, \"zaxis\": {\"backgroundcolor\": \"#E5ECF6\", \"gridcolor\": \"white\", \"gridwidth\": 2, \"linecolor\": \"white\", \"showbackground\": true, \"ticks\": \"\", \"zerolinecolor\": \"white\"}}, \"shapedefaults\": {\"line\": {\"color\": \"#2a3f5f\"}}, \"ternary\": {\"aaxis\": {\"gridcolor\": \"white\", \"linecolor\": \"white\", \"ticks\": \"\"}, \"baxis\": {\"gridcolor\": \"white\", \"linecolor\": \"white\", \"ticks\": \"\"}, \"bgcolor\": \"#E5ECF6\", \"caxis\": {\"gridcolor\": \"white\", \"linecolor\": \"white\", \"ticks\": \"\"}}, \"title\": {\"x\": 0.05}, \"xaxis\": {\"automargin\": true, \"gridcolor\": \"white\", \"linecolor\": \"white\", \"ticks\": \"\", \"title\": {\"standoff\": 15}, \"zerolinecolor\": \"white\", \"zerolinewidth\": 2}, \"yaxis\": {\"automargin\": true, \"gridcolor\": \"white\", \"linecolor\": \"white\", \"ticks\": \"\", \"title\": {\"standoff\": 15}, \"zerolinecolor\": \"white\", \"zerolinewidth\": 2}}}},                        {\"responsive\": true}                    ).then(function(){\n",
       "                            \n",
       "var gd = document.getElementById('27e764ac-c72b-4d9d-949d-4a2ff6ef1b6e');\n",
       "var x = new MutationObserver(function (mutations, observer) {{\n",
       "        var display = window.getComputedStyle(gd).display;\n",
       "        if (!display || display === 'none') {{\n",
       "            console.log([gd, 'removed!']);\n",
       "            Plotly.purge(gd);\n",
       "            observer.disconnect();\n",
       "        }}\n",
       "}});\n",
       "\n",
       "// Listen for the removal of the full notebook cells\n",
       "var notebookContainer = gd.closest('#notebook-container');\n",
       "if (notebookContainer) {{\n",
       "    x.observe(notebookContainer, {childList: true});\n",
       "}}\n",
       "\n",
       "// Listen for the clearing of the current output cell\n",
       "var outputEl = gd.closest('.output');\n",
       "if (outputEl) {{\n",
       "    x.observe(outputEl, {childList: true});\n",
       "}}\n",
       "\n",
       "                        })                };                });            </script>        </div>"
      ]
     },
     "metadata": {},
     "output_type": "display_data"
    }
   ],
   "source": [
    "grafico = px.scatter_matrix(dados2, dimensions=['FCxDesc', 'Valor_Perpetuidade', 'Valor_empresa', 'FCFE', 'FCFF'], symbol=['MGLU', 'AREZZO', 'GUAR','RENNER', 'VVAR'], color = np.random.randn(5), color_continuous_scale='Viridis')\n",
    "grafico.show()"
   ]
  },
  {
   "cell_type": "markdown",
   "metadata": {},
   "source": [
    "### Coleta do desempenho de Valor da ação"
   ]
  },
  {
   "cell_type": "code",
   "execution_count": 24,
   "metadata": {},
   "outputs": [
    {
     "data": {
      "text/html": [
       "<div>\n",
       "<style scoped>\n",
       "    .dataframe tbody tr th:only-of-type {\n",
       "        vertical-align: middle;\n",
       "    }\n",
       "\n",
       "    .dataframe tbody tr th {\n",
       "        vertical-align: top;\n",
       "    }\n",
       "\n",
       "    .dataframe thead th {\n",
       "        text-align: right;\n",
       "    }\n",
       "</style>\n",
       "<table border=\"1\" class=\"dataframe\">\n",
       "  <thead>\n",
       "    <tr style=\"text-align: right;\">\n",
       "      <th></th>\n",
       "      <th>Empresas</th>\n",
       "    </tr>\n",
       "  </thead>\n",
       "  <tbody>\n",
       "    <tr>\n",
       "      <th>0</th>\n",
       "      <td>MGLU3</td>\n",
       "    </tr>\n",
       "    <tr>\n",
       "      <th>1</th>\n",
       "      <td>LREN3</td>\n",
       "    </tr>\n",
       "    <tr>\n",
       "      <th>2</th>\n",
       "      <td>GUAR3</td>\n",
       "    </tr>\n",
       "    <tr>\n",
       "      <th>3</th>\n",
       "      <td>ARZZ3</td>\n",
       "    </tr>\n",
       "    <tr>\n",
       "      <th>4</th>\n",
       "      <td>VVAR3</td>\n",
       "    </tr>\n",
       "  </tbody>\n",
       "</table>\n",
       "</div>"
      ],
      "text/plain": [
       "  Empresas\n",
       "0    MGLU3\n",
       "1    LREN3\n",
       "2    GUAR3\n",
       "3    ARZZ3\n",
       "4    VVAR3"
      ]
     },
     "metadata": {},
     "output_type": "display_data"
    },
    {
     "name": "stdout",
     "output_type": "stream",
     "text": [
      "MGLU3:\n"
     ]
    },
    {
     "data": {
      "text/html": [
       "<div>\n",
       "<style scoped>\n",
       "    .dataframe tbody tr th:only-of-type {\n",
       "        vertical-align: middle;\n",
       "    }\n",
       "\n",
       "    .dataframe tbody tr th {\n",
       "        vertical-align: top;\n",
       "    }\n",
       "\n",
       "    .dataframe thead th {\n",
       "        text-align: right;\n",
       "    }\n",
       "</style>\n",
       "<table border=\"1\" class=\"dataframe\">\n",
       "  <thead>\n",
       "    <tr style=\"text-align: right;\">\n",
       "      <th></th>\n",
       "      <th>High</th>\n",
       "      <th>Low</th>\n",
       "      <th>Open</th>\n",
       "      <th>Close</th>\n",
       "      <th>Volume</th>\n",
       "      <th>Adj Close</th>\n",
       "    </tr>\n",
       "    <tr>\n",
       "      <th>Date</th>\n",
       "      <th></th>\n",
       "      <th></th>\n",
       "      <th></th>\n",
       "      <th></th>\n",
       "      <th></th>\n",
       "      <th></th>\n",
       "    </tr>\n",
       "  </thead>\n",
       "  <tbody>\n",
       "    <tr>\n",
       "      <th>2021-01-04</th>\n",
       "      <td>25.58</td>\n",
       "      <td>24.87</td>\n",
       "      <td>25.26</td>\n",
       "      <td>25.20</td>\n",
       "      <td>25706100.00</td>\n",
       "      <td>25.20</td>\n",
       "    </tr>\n",
       "    <tr>\n",
       "      <th>2021-01-05</th>\n",
       "      <td>25.18</td>\n",
       "      <td>24.34</td>\n",
       "      <td>25.10</td>\n",
       "      <td>24.76</td>\n",
       "      <td>25431900.00</td>\n",
       "      <td>24.76</td>\n",
       "    </tr>\n",
       "    <tr>\n",
       "      <th>2021-01-06</th>\n",
       "      <td>24.66</td>\n",
       "      <td>23.42</td>\n",
       "      <td>24.65</td>\n",
       "      <td>23.46</td>\n",
       "      <td>51799000.00</td>\n",
       "      <td>23.46</td>\n",
       "    </tr>\n",
       "    <tr>\n",
       "      <th>2021-01-07</th>\n",
       "      <td>23.85</td>\n",
       "      <td>22.95</td>\n",
       "      <td>23.64</td>\n",
       "      <td>23.16</td>\n",
       "      <td>42146600.00</td>\n",
       "      <td>23.16</td>\n",
       "    </tr>\n",
       "    <tr>\n",
       "      <th>2021-01-08</th>\n",
       "      <td>24.30</td>\n",
       "      <td>23.02</td>\n",
       "      <td>23.19</td>\n",
       "      <td>23.84</td>\n",
       "      <td>43988100.00</td>\n",
       "      <td>23.84</td>\n",
       "    </tr>\n",
       "    <tr>\n",
       "      <th>...</th>\n",
       "      <td>...</td>\n",
       "      <td>...</td>\n",
       "      <td>...</td>\n",
       "      <td>...</td>\n",
       "      <td>...</td>\n",
       "      <td>...</td>\n",
       "    </tr>\n",
       "    <tr>\n",
       "      <th>2021-04-29</th>\n",
       "      <td>20.67</td>\n",
       "      <td>19.91</td>\n",
       "      <td>20.63</td>\n",
       "      <td>20.26</td>\n",
       "      <td>34394600.00</td>\n",
       "      <td>20.26</td>\n",
       "    </tr>\n",
       "    <tr>\n",
       "      <th>2021-04-30</th>\n",
       "      <td>20.39</td>\n",
       "      <td>19.87</td>\n",
       "      <td>20.10</td>\n",
       "      <td>20.03</td>\n",
       "      <td>29426800.00</td>\n",
       "      <td>20.03</td>\n",
       "    </tr>\n",
       "    <tr>\n",
       "      <th>2021-05-03</th>\n",
       "      <td>20.25</td>\n",
       "      <td>19.90</td>\n",
       "      <td>20.11</td>\n",
       "      <td>20.18</td>\n",
       "      <td>17801100.00</td>\n",
       "      <td>20.18</td>\n",
       "    </tr>\n",
       "    <tr>\n",
       "      <th>2021-05-04</th>\n",
       "      <td>20.23</td>\n",
       "      <td>19.64</td>\n",
       "      <td>20.18</td>\n",
       "      <td>19.75</td>\n",
       "      <td>19458300.00</td>\n",
       "      <td>19.75</td>\n",
       "    </tr>\n",
       "    <tr>\n",
       "      <th>2021-05-05</th>\n",
       "      <td>20.09</td>\n",
       "      <td>19.68</td>\n",
       "      <td>19.85</td>\n",
       "      <td>19.90</td>\n",
       "      <td>15035400.00</td>\n",
       "      <td>19.90</td>\n",
       "    </tr>\n",
       "  </tbody>\n",
       "</table>\n",
       "<p>82 rows × 6 columns</p>\n",
       "</div>"
      ],
      "text/plain": [
       "            High   Low  Open  Close      Volume  Adj Close\n",
       "Date                                                      \n",
       "2021-01-04 25.58 24.87 25.26  25.20 25706100.00      25.20\n",
       "2021-01-05 25.18 24.34 25.10  24.76 25431900.00      24.76\n",
       "2021-01-06 24.66 23.42 24.65  23.46 51799000.00      23.46\n",
       "2021-01-07 23.85 22.95 23.64  23.16 42146600.00      23.16\n",
       "2021-01-08 24.30 23.02 23.19  23.84 43988100.00      23.84\n",
       "...          ...   ...   ...    ...         ...        ...\n",
       "2021-04-29 20.67 19.91 20.63  20.26 34394600.00      20.26\n",
       "2021-04-30 20.39 19.87 20.10  20.03 29426800.00      20.03\n",
       "2021-05-03 20.25 19.90 20.11  20.18 17801100.00      20.18\n",
       "2021-05-04 20.23 19.64 20.18  19.75 19458300.00      19.75\n",
       "2021-05-05 20.09 19.68 19.85  19.90 15035400.00      19.90\n",
       "\n",
       "[82 rows x 6 columns]"
      ]
     },
     "metadata": {},
     "output_type": "display_data"
    },
    {
     "data": {
      "image/png": "[encoded data removed]",
      "text/plain": [
       "<Figure size 1080x720 with 1 Axes>"
      ]
     },
     "metadata": {
      "needs_background": "light"
     },
     "output_type": "display_data"
    },
    {
     "name": "stdout",
     "output_type": "stream",
     "text": [
      "LREN3:\n"
     ]
    },
    {
     "data": {
      "text/html": [
       "<div>\n",
       "<style scoped>\n",
       "    .dataframe tbody tr th:only-of-type {\n",
       "        vertical-align: middle;\n",
       "    }\n",
       "\n",
       "    .dataframe tbody tr th {\n",
       "        vertical-align: top;\n",
       "    }\n",
       "\n",
       "    .dataframe thead th {\n",
       "        text-align: right;\n",
       "    }\n",
       "</style>\n",
       "<table border=\"1\" class=\"dataframe\">\n",
       "  <thead>\n",
       "    <tr style=\"text-align: right;\">\n",
       "      <th></th>\n",
       "      <th>High</th>\n",
       "      <th>Low</th>\n",
       "      <th>Open</th>\n",
       "      <th>Close</th>\n",
       "      <th>Volume</th>\n",
       "      <th>Adj Close</th>\n",
       "    </tr>\n",
       "    <tr>\n",
       "      <th>Date</th>\n",
       "      <th></th>\n",
       "      <th></th>\n",
       "      <th></th>\n",
       "      <th></th>\n",
       "      <th></th>\n",
       "      <th></th>\n",
       "    </tr>\n",
       "  </thead>\n",
       "  <tbody>\n",
       "    <tr>\n",
       "      <th>2021-01-04</th>\n",
       "      <td>44.44</td>\n",
       "      <td>41.95</td>\n",
       "      <td>43.96</td>\n",
       "      <td>42.21</td>\n",
       "      <td>6902700.00</td>\n",
       "      <td>42.05</td>\n",
       "    </tr>\n",
       "    <tr>\n",
       "      <th>2021-01-05</th>\n",
       "      <td>42.56</td>\n",
       "      <td>41.13</td>\n",
       "      <td>42.22</td>\n",
       "      <td>41.80</td>\n",
       "      <td>5136200.00</td>\n",
       "      <td>41.64</td>\n",
       "    </tr>\n",
       "    <tr>\n",
       "      <th>2021-01-06</th>\n",
       "      <td>42.04</td>\n",
       "      <td>39.53</td>\n",
       "      <td>41.92</td>\n",
       "      <td>39.70</td>\n",
       "      <td>8921400.00</td>\n",
       "      <td>39.55</td>\n",
       "    </tr>\n",
       "    <tr>\n",
       "      <th>2021-01-07</th>\n",
       "      <td>40.97</td>\n",
       "      <td>38.91</td>\n",
       "      <td>39.96</td>\n",
       "      <td>40.75</td>\n",
       "      <td>12286500.00</td>\n",
       "      <td>40.60</td>\n",
       "    </tr>\n",
       "    <tr>\n",
       "      <th>2021-01-08</th>\n",
       "      <td>43.15</td>\n",
       "      <td>40.61</td>\n",
       "      <td>40.74</td>\n",
       "      <td>43.10</td>\n",
       "      <td>13241600.00</td>\n",
       "      <td>42.94</td>\n",
       "    </tr>\n",
       "    <tr>\n",
       "      <th>...</th>\n",
       "      <td>...</td>\n",
       "      <td>...</td>\n",
       "      <td>...</td>\n",
       "      <td>...</td>\n",
       "      <td>...</td>\n",
       "      <td>...</td>\n",
       "    </tr>\n",
       "    <tr>\n",
       "      <th>2021-04-29</th>\n",
       "      <td>40.78</td>\n",
       "      <td>39.48</td>\n",
       "      <td>40.06</td>\n",
       "      <td>39.97</td>\n",
       "      <td>7894200.00</td>\n",
       "      <td>39.93</td>\n",
       "    </tr>\n",
       "    <tr>\n",
       "      <th>2021-04-30</th>\n",
       "      <td>41.75</td>\n",
       "      <td>39.84</td>\n",
       "      <td>40.40</td>\n",
       "      <td>40.40</td>\n",
       "      <td>23062700.00</td>\n",
       "      <td>40.40</td>\n",
       "    </tr>\n",
       "    <tr>\n",
       "      <th>2021-05-03</th>\n",
       "      <td>41.44</td>\n",
       "      <td>40.05</td>\n",
       "      <td>40.48</td>\n",
       "      <td>41.00</td>\n",
       "      <td>14275000.00</td>\n",
       "      <td>41.00</td>\n",
       "    </tr>\n",
       "    <tr>\n",
       "      <th>2021-05-04</th>\n",
       "      <td>41.60</td>\n",
       "      <td>40.49</td>\n",
       "      <td>41.06</td>\n",
       "      <td>41.09</td>\n",
       "      <td>22055100.00</td>\n",
       "      <td>41.09</td>\n",
       "    </tr>\n",
       "    <tr>\n",
       "      <th>2021-05-05</th>\n",
       "      <td>42.81</td>\n",
       "      <td>41.03</td>\n",
       "      <td>41.25</td>\n",
       "      <td>41.45</td>\n",
       "      <td>11721600.00</td>\n",
       "      <td>41.45</td>\n",
       "    </tr>\n",
       "  </tbody>\n",
       "</table>\n",
       "<p>82 rows × 6 columns</p>\n",
       "</div>"
      ],
      "text/plain": [
       "            High   Low  Open  Close      Volume  Adj Close\n",
       "Date                                                      \n",
       "2021-01-04 44.44 41.95 43.96  42.21  6902700.00      42.05\n",
       "2021-01-05 42.56 41.13 42.22  41.80  5136200.00      41.64\n",
       "2021-01-06 42.04 39.53 41.92  39.70  8921400.00      39.55\n",
       "2021-01-07 40.97 38.91 39.96  40.75 12286500.00      40.60\n",
       "2021-01-08 43.15 40.61 40.74  43.10 13241600.00      42.94\n",
       "...          ...   ...   ...    ...         ...        ...\n",
       "2021-04-29 40.78 39.48 40.06  39.97  7894200.00      39.93\n",
       "2021-04-30 41.75 39.84 40.40  40.40 23062700.00      40.40\n",
       "2021-05-03 41.44 40.05 40.48  41.00 14275000.00      41.00\n",
       "2021-05-04 41.60 40.49 41.06  41.09 22055100.00      41.09\n",
       "2021-05-05 42.81 41.03 41.25  41.45 11721600.00      41.45\n",
       "\n",
       "[82 rows x 6 columns]"
      ]
     },
     "metadata": {},
     "output_type": "display_data"
    },
    {
     "data": {
      "image/png": "[encoded data removed]",
      "text/plain": [
       "<Figure size 1080x720 with 1 Axes>"
      ]
     },
     "metadata": {
      "needs_background": "light"
     },
     "output_type": "display_data"
    },
    {
     "name": "stdout",
     "output_type": "stream",
     "text": [
      "GUAR3:\n"
     ]
    },
    {
     "data": {
      "text/html": [
       "<div>\n",
       "<style scoped>\n",
       "    .dataframe tbody tr th:only-of-type {\n",
       "        vertical-align: middle;\n",
       "    }\n",
       "\n",
       "    .dataframe tbody tr th {\n",
       "        vertical-align: top;\n",
       "    }\n",
       "\n",
       "    .dataframe thead th {\n",
       "        text-align: right;\n",
       "    }\n",
       "</style>\n",
       "<table border=\"1\" class=\"dataframe\">\n",
       "  <thead>\n",
       "    <tr style=\"text-align: right;\">\n",
       "      <th></th>\n",
       "      <th>High</th>\n",
       "      <th>Low</th>\n",
       "      <th>Open</th>\n",
       "      <th>Close</th>\n",
       "      <th>Volume</th>\n",
       "      <th>Adj Close</th>\n",
       "    </tr>\n",
       "    <tr>\n",
       "      <th>Date</th>\n",
       "      <th></th>\n",
       "      <th></th>\n",
       "      <th></th>\n",
       "      <th></th>\n",
       "      <th></th>\n",
       "      <th></th>\n",
       "    </tr>\n",
       "  </thead>\n",
       "  <tbody>\n",
       "    <tr>\n",
       "      <th>2021-01-04</th>\n",
       "      <td>15.07</td>\n",
       "      <td>14.14</td>\n",
       "      <td>15.04</td>\n",
       "      <td>14.20</td>\n",
       "      <td>1813000.00</td>\n",
       "      <td>14.20</td>\n",
       "    </tr>\n",
       "    <tr>\n",
       "      <th>2021-01-05</th>\n",
       "      <td>14.56</td>\n",
       "      <td>13.94</td>\n",
       "      <td>14.20</td>\n",
       "      <td>14.56</td>\n",
       "      <td>934300.00</td>\n",
       "      <td>14.56</td>\n",
       "    </tr>\n",
       "    <tr>\n",
       "      <th>2021-01-06</th>\n",
       "      <td>14.55</td>\n",
       "      <td>13.90</td>\n",
       "      <td>14.55</td>\n",
       "      <td>13.92</td>\n",
       "      <td>1473400.00</td>\n",
       "      <td>13.92</td>\n",
       "    </tr>\n",
       "    <tr>\n",
       "      <th>2021-01-07</th>\n",
       "      <td>14.17</td>\n",
       "      <td>13.77</td>\n",
       "      <td>13.96</td>\n",
       "      <td>13.82</td>\n",
       "      <td>1345400.00</td>\n",
       "      <td>13.82</td>\n",
       "    </tr>\n",
       "    <tr>\n",
       "      <th>2021-01-08</th>\n",
       "      <td>14.62</td>\n",
       "      <td>13.84</td>\n",
       "      <td>13.85</td>\n",
       "      <td>14.50</td>\n",
       "      <td>902800.00</td>\n",
       "      <td>14.50</td>\n",
       "    </tr>\n",
       "    <tr>\n",
       "      <th>...</th>\n",
       "      <td>...</td>\n",
       "      <td>...</td>\n",
       "      <td>...</td>\n",
       "      <td>...</td>\n",
       "      <td>...</td>\n",
       "      <td>...</td>\n",
       "    </tr>\n",
       "    <tr>\n",
       "      <th>2021-04-29</th>\n",
       "      <td>17.53</td>\n",
       "      <td>17.07</td>\n",
       "      <td>17.30</td>\n",
       "      <td>17.19</td>\n",
       "      <td>679400.00</td>\n",
       "      <td>17.19</td>\n",
       "    </tr>\n",
       "    <tr>\n",
       "      <th>2021-04-30</th>\n",
       "      <td>17.70</td>\n",
       "      <td>16.78</td>\n",
       "      <td>17.14</td>\n",
       "      <td>16.78</td>\n",
       "      <td>671600.00</td>\n",
       "      <td>16.78</td>\n",
       "    </tr>\n",
       "    <tr>\n",
       "      <th>2021-05-03</th>\n",
       "      <td>17.75</td>\n",
       "      <td>16.78</td>\n",
       "      <td>16.81</td>\n",
       "      <td>17.29</td>\n",
       "      <td>716900.00</td>\n",
       "      <td>17.29</td>\n",
       "    </tr>\n",
       "    <tr>\n",
       "      <th>2021-05-04</th>\n",
       "      <td>17.56</td>\n",
       "      <td>17.05</td>\n",
       "      <td>17.29</td>\n",
       "      <td>17.19</td>\n",
       "      <td>420100.00</td>\n",
       "      <td>17.19</td>\n",
       "    </tr>\n",
       "    <tr>\n",
       "      <th>2021-05-05</th>\n",
       "      <td>17.49</td>\n",
       "      <td>17.12</td>\n",
       "      <td>17.26</td>\n",
       "      <td>17.21</td>\n",
       "      <td>395500.00</td>\n",
       "      <td>17.21</td>\n",
       "    </tr>\n",
       "  </tbody>\n",
       "</table>\n",
       "<p>82 rows × 6 columns</p>\n",
       "</div>"
      ],
      "text/plain": [
       "            High   Low  Open  Close     Volume  Adj Close\n",
       "Date                                                     \n",
       "2021-01-04 15.07 14.14 15.04  14.20 1813000.00      14.20\n",
       "2021-01-05 14.56 13.94 14.20  14.56  934300.00      14.56\n",
       "2021-01-06 14.55 13.90 14.55  13.92 1473400.00      13.92\n",
       "2021-01-07 14.17 13.77 13.96  13.82 1345400.00      13.82\n",
       "2021-01-08 14.62 13.84 13.85  14.50  902800.00      14.50\n",
       "...          ...   ...   ...    ...        ...        ...\n",
       "2021-04-29 17.53 17.07 17.30  17.19  679400.00      17.19\n",
       "2021-04-30 17.70 16.78 17.14  16.78  671600.00      16.78\n",
       "2021-05-03 17.75 16.78 16.81  17.29  716900.00      17.29\n",
       "2021-05-04 17.56 17.05 17.29  17.19  420100.00      17.19\n",
       "2021-05-05 17.49 17.12 17.26  17.21  395500.00      17.21\n",
       "\n",
       "[82 rows x 6 columns]"
      ]
     },
     "metadata": {},
     "output_type": "display_data"
    },
    {
     "data": {
      "image/png": "[encoded data removed]",
      "text/plain": [
       "<Figure size 1080x720 with 1 Axes>"
      ]
     },
     "metadata": {
      "needs_background": "light"
     },
     "output_type": "display_data"
    },
    {
     "name": "stdout",
     "output_type": "stream",
     "text": [
      "ARZZ3:\n"
     ]
    },
    {
     "data": {
      "text/html": [
       "<div>\n",
       "<style scoped>\n",
       "    .dataframe tbody tr th:only-of-type {\n",
       "        vertical-align: middle;\n",
       "    }\n",
       "\n",
       "    .dataframe tbody tr th {\n",
       "        vertical-align: top;\n",
       "    }\n",
       "\n",
       "    .dataframe thead th {\n",
       "        text-align: right;\n",
       "    }\n",
       "</style>\n",
       "<table border=\"1\" class=\"dataframe\">\n",
       "  <thead>\n",
       "    <tr style=\"text-align: right;\">\n",
       "      <th></th>\n",
       "      <th>High</th>\n",
       "      <th>Low</th>\n",
       "      <th>Open</th>\n",
       "      <th>Close</th>\n",
       "      <th>Volume</th>\n",
       "      <th>Adj Close</th>\n",
       "    </tr>\n",
       "    <tr>\n",
       "      <th>Date</th>\n",
       "      <th></th>\n",
       "      <th></th>\n",
       "      <th></th>\n",
       "      <th></th>\n",
       "      <th></th>\n",
       "      <th></th>\n",
       "    </tr>\n",
       "  </thead>\n",
       "  <tbody>\n",
       "    <tr>\n",
       "      <th>2021-01-04</th>\n",
       "      <td>69.00</td>\n",
       "      <td>66.98</td>\n",
       "      <td>68.18</td>\n",
       "      <td>68.00</td>\n",
       "      <td>331200.00</td>\n",
       "      <td>67.98</td>\n",
       "    </tr>\n",
       "    <tr>\n",
       "      <th>2021-01-05</th>\n",
       "      <td>67.59</td>\n",
       "      <td>66.30</td>\n",
       "      <td>67.22</td>\n",
       "      <td>66.96</td>\n",
       "      <td>308700.00</td>\n",
       "      <td>66.94</td>\n",
       "    </tr>\n",
       "    <tr>\n",
       "      <th>2021-01-06</th>\n",
       "      <td>66.98</td>\n",
       "      <td>62.86</td>\n",
       "      <td>66.91</td>\n",
       "      <td>63.00</td>\n",
       "      <td>771100.00</td>\n",
       "      <td>62.98</td>\n",
       "    </tr>\n",
       "    <tr>\n",
       "      <th>2021-01-07</th>\n",
       "      <td>63.79</td>\n",
       "      <td>62.11</td>\n",
       "      <td>63.07</td>\n",
       "      <td>62.92</td>\n",
       "      <td>962500.00</td>\n",
       "      <td>62.90</td>\n",
       "    </tr>\n",
       "    <tr>\n",
       "      <th>2021-01-08</th>\n",
       "      <td>64.77</td>\n",
       "      <td>62.67</td>\n",
       "      <td>63.05</td>\n",
       "      <td>64.10</td>\n",
       "      <td>653500.00</td>\n",
       "      <td>64.08</td>\n",
       "    </tr>\n",
       "    <tr>\n",
       "      <th>...</th>\n",
       "      <td>...</td>\n",
       "      <td>...</td>\n",
       "      <td>...</td>\n",
       "      <td>...</td>\n",
       "      <td>...</td>\n",
       "      <td>...</td>\n",
       "    </tr>\n",
       "    <tr>\n",
       "      <th>2021-04-29</th>\n",
       "      <td>77.52</td>\n",
       "      <td>76.13</td>\n",
       "      <td>77.34</td>\n",
       "      <td>76.17</td>\n",
       "      <td>511000.00</td>\n",
       "      <td>76.14</td>\n",
       "    </tr>\n",
       "    <tr>\n",
       "      <th>2021-04-30</th>\n",
       "      <td>76.63</td>\n",
       "      <td>75.05</td>\n",
       "      <td>76.29</td>\n",
       "      <td>75.65</td>\n",
       "      <td>677800.00</td>\n",
       "      <td>75.65</td>\n",
       "    </tr>\n",
       "    <tr>\n",
       "      <th>2021-05-03</th>\n",
       "      <td>77.09</td>\n",
       "      <td>74.60</td>\n",
       "      <td>75.67</td>\n",
       "      <td>75.62</td>\n",
       "      <td>1253500.00</td>\n",
       "      <td>75.62</td>\n",
       "    </tr>\n",
       "    <tr>\n",
       "      <th>2021-05-04</th>\n",
       "      <td>76.71</td>\n",
       "      <td>74.42</td>\n",
       "      <td>75.63</td>\n",
       "      <td>76.00</td>\n",
       "      <td>787000.00</td>\n",
       "      <td>76.00</td>\n",
       "    </tr>\n",
       "    <tr>\n",
       "      <th>2021-05-05</th>\n",
       "      <td>80.30</td>\n",
       "      <td>75.83</td>\n",
       "      <td>76.33</td>\n",
       "      <td>79.45</td>\n",
       "      <td>1244000.00</td>\n",
       "      <td>79.45</td>\n",
       "    </tr>\n",
       "  </tbody>\n",
       "</table>\n",
       "<p>82 rows × 6 columns</p>\n",
       "</div>"
      ],
      "text/plain": [
       "            High   Low  Open  Close     Volume  Adj Close\n",
       "Date                                                     \n",
       "2021-01-04 69.00 66.98 68.18  68.00  331200.00      67.98\n",
       "2021-01-05 67.59 66.30 67.22  66.96  308700.00      66.94\n",
       "2021-01-06 66.98 62.86 66.91  63.00  771100.00      62.98\n",
       "2021-01-07 63.79 62.11 63.07  62.92  962500.00      62.90\n",
       "2021-01-08 64.77 62.67 63.05  64.10  653500.00      64.08\n",
       "...          ...   ...   ...    ...        ...        ...\n",
       "2021-04-29 77.52 76.13 77.34  76.17  511000.00      76.14\n",
       "2021-04-30 76.63 75.05 76.29  75.65  677800.00      75.65\n",
       "2021-05-03 77.09 74.60 75.67  75.62 1253500.00      75.62\n",
       "2021-05-04 76.71 74.42 75.63  76.00  787000.00      76.00\n",
       "2021-05-05 80.30 75.83 76.33  79.45 1244000.00      79.45\n",
       "\n",
       "[82 rows x 6 columns]"
      ]
     },
     "metadata": {},
     "output_type": "display_data"
    },
    {
     "data": {
      "image/png": "[encoded data removed]",
      "text/plain": [
       "<Figure size 1080x720 with 1 Axes>"
      ]
     },
     "metadata": {
      "needs_background": "light"
     },
     "output_type": "display_data"
    },
    {
     "name": "stdout",
     "output_type": "stream",
     "text": [
      "VVAR3:\n"
     ]
    },
    {
     "data": {
      "text/html": [
       "<div>\n",
       "<style scoped>\n",
       "    .dataframe tbody tr th:only-of-type {\n",
       "        vertical-align: middle;\n",
       "    }\n",
       "\n",
       "    .dataframe tbody tr th {\n",
       "        vertical-align: top;\n",
       "    }\n",
       "\n",
       "    .dataframe thead th {\n",
       "        text-align: right;\n",
       "    }\n",
       "</style>\n",
       "<table border=\"1\" class=\"dataframe\">\n",
       "  <thead>\n",
       "    <tr style=\"text-align: right;\">\n",
       "      <th></th>\n",
       "      <th>High</th>\n",
       "      <th>Low</th>\n",
       "      <th>Open</th>\n",
       "      <th>Close</th>\n",
       "      <th>Volume</th>\n",
       "      <th>Adj Close</th>\n",
       "    </tr>\n",
       "    <tr>\n",
       "      <th>Date</th>\n",
       "      <th></th>\n",
       "      <th></th>\n",
       "      <th></th>\n",
       "      <th></th>\n",
       "      <th></th>\n",
       "      <th></th>\n",
       "    </tr>\n",
       "  </thead>\n",
       "  <tbody>\n",
       "    <tr>\n",
       "      <th>2021-01-04</th>\n",
       "      <td>16.77</td>\n",
       "      <td>15.96</td>\n",
       "      <td>16.49</td>\n",
       "      <td>16.17</td>\n",
       "      <td>44372400.00</td>\n",
       "      <td>16.17</td>\n",
       "    </tr>\n",
       "    <tr>\n",
       "      <th>2021-01-05</th>\n",
       "      <td>16.35</td>\n",
       "      <td>15.65</td>\n",
       "      <td>16.01</td>\n",
       "      <td>16.22</td>\n",
       "      <td>41436700.00</td>\n",
       "      <td>16.22</td>\n",
       "    </tr>\n",
       "    <tr>\n",
       "      <th>2021-01-06</th>\n",
       "      <td>16.14</td>\n",
       "      <td>15.40</td>\n",
       "      <td>16.10</td>\n",
       "      <td>15.49</td>\n",
       "      <td>49797300.00</td>\n",
       "      <td>15.49</td>\n",
       "    </tr>\n",
       "    <tr>\n",
       "      <th>2021-01-07</th>\n",
       "      <td>15.81</td>\n",
       "      <td>14.92</td>\n",
       "      <td>15.70</td>\n",
       "      <td>15.08</td>\n",
       "      <td>70842700.00</td>\n",
       "      <td>15.08</td>\n",
       "    </tr>\n",
       "    <tr>\n",
       "      <th>2021-01-08</th>\n",
       "      <td>15.82</td>\n",
       "      <td>15.08</td>\n",
       "      <td>15.12</td>\n",
       "      <td>15.53</td>\n",
       "      <td>58505800.00</td>\n",
       "      <td>15.53</td>\n",
       "    </tr>\n",
       "    <tr>\n",
       "      <th>...</th>\n",
       "      <td>...</td>\n",
       "      <td>...</td>\n",
       "      <td>...</td>\n",
       "      <td>...</td>\n",
       "      <td>...</td>\n",
       "      <td>...</td>\n",
       "    </tr>\n",
       "    <tr>\n",
       "      <th>2021-04-29</th>\n",
       "      <td>12.30</td>\n",
       "      <td>11.97</td>\n",
       "      <td>12.23</td>\n",
       "      <td>12.10</td>\n",
       "      <td>33054900.00</td>\n",
       "      <td>12.10</td>\n",
       "    </tr>\n",
       "    <tr>\n",
       "      <th>2021-04-30</th>\n",
       "      <td>12.26</td>\n",
       "      <td>11.83</td>\n",
       "      <td>12.00</td>\n",
       "      <td>11.83</td>\n",
       "      <td>33895200.00</td>\n",
       "      <td>11.83</td>\n",
       "    </tr>\n",
       "    <tr>\n",
       "      <th>2021-05-03</th>\n",
       "      <td>12.08</td>\n",
       "      <td>11.76</td>\n",
       "      <td>11.95</td>\n",
       "      <td>11.87</td>\n",
       "      <td>25067200.00</td>\n",
       "      <td>11.87</td>\n",
       "    </tr>\n",
       "    <tr>\n",
       "      <th>2021-05-04</th>\n",
       "      <td>11.95</td>\n",
       "      <td>11.72</td>\n",
       "      <td>11.89</td>\n",
       "      <td>11.94</td>\n",
       "      <td>26617500.00</td>\n",
       "      <td>11.94</td>\n",
       "    </tr>\n",
       "    <tr>\n",
       "      <th>2021-05-05</th>\n",
       "      <td>12.18</td>\n",
       "      <td>11.88</td>\n",
       "      <td>11.91</td>\n",
       "      <td>12.10</td>\n",
       "      <td>22849100.00</td>\n",
       "      <td>12.10</td>\n",
       "    </tr>\n",
       "  </tbody>\n",
       "</table>\n",
       "<p>82 rows × 6 columns</p>\n",
       "</div>"
      ],
      "text/plain": [
       "            High   Low  Open  Close      Volume  Adj Close\n",
       "Date                                                      \n",
       "2021-01-04 16.77 15.96 16.49  16.17 44372400.00      16.17\n",
       "2021-01-05 16.35 15.65 16.01  16.22 41436700.00      16.22\n",
       "2021-01-06 16.14 15.40 16.10  15.49 49797300.00      15.49\n",
       "2021-01-07 15.81 14.92 15.70  15.08 70842700.00      15.08\n",
       "2021-01-08 15.82 15.08 15.12  15.53 58505800.00      15.53\n",
       "...          ...   ...   ...    ...         ...        ...\n",
       "2021-04-29 12.30 11.97 12.23  12.10 33054900.00      12.10\n",
       "2021-04-30 12.26 11.83 12.00  11.83 33895200.00      11.83\n",
       "2021-05-03 12.08 11.76 11.95  11.87 25067200.00      11.87\n",
       "2021-05-04 11.95 11.72 11.89  11.94 26617500.00      11.94\n",
       "2021-05-05 12.18 11.88 11.91  12.10 22849100.00      12.10\n",
       "\n",
       "[82 rows x 6 columns]"
      ]
     },
     "metadata": {},
     "output_type": "display_data"
    },
    {
     "data": {
      "image/png": "[encoded data removed]",
      "text/plain": [
       "<Figure size 1080x720 with 1 Axes>"
      ]
     },
     "metadata": {
      "needs_background": "light"
     },
     "output_type": "display_data"
    }
   ],
   "source": [
    "data_inicial = \"01/01/2021\"\n",
    "data_final = \"05/05/2021\"\n",
    "\n",
    "empresas_df = pd.read_excel(\"EMPRESAS_COT.xlsx\")\n",
    "display(empresas_df)\n",
    "\n",
    "for empresa in empresas_df['Empresas']: \n",
    "    print(f\"{empresa}:\")\n",
    "    df = web.DataReader(f'{empresa}.SA', data_source='yahoo', start=data_inicial, end=data_final)\n",
    "    display(df)\n",
    "    df[\"Adj Close\"].plot(figsize=(15, 10))\n",
    "    plt.show()"
   ]
  },
  {
   "cell_type": "markdown",
   "metadata": {},
   "source": [
    "### Simulador:"
   ]
  },
  {
   "cell_type": "markdown",
   "metadata": {},
   "source": [
    "#### 1. Informe o valor em R$ desejado para investimento\n",
    "#### 2. Informe o valor + atual da ação"
   ]
  },
  {
   "cell_type": "code",
   "execution_count": 25,
   "metadata": {},
   "outputs": [],
   "source": [
    "investimento = 1000\n",
    "acao_mglu = 19.90\n",
    "acao_renner = 41.45\n",
    "acao_arz = 79.45\n",
    "acao_guar = 17.21 \n",
    "acao_vvar = 12.10"
   ]
  },
  {
   "cell_type": "code",
   "execution_count": 26,
   "metadata": {},
   "outputs": [],
   "source": [
    "qtd_mglu = investimento / acao_mglu\n",
    "qtd_renner = investimento / acao_renner\n",
    "qtd_arz = investimento / acao_arz\n",
    "qtd_guar = investimento / acao_guar\n",
    "qtd_vvar = investimento / acao_vvar"
   ]
  },
  {
   "cell_type": "code",
   "execution_count": 27,
   "metadata": {},
   "outputs": [
    {
     "name": "stdout",
     "output_type": "stream",
     "text": [
      "Nº de ações MGLU -> 50.25125628140704\n",
      "Nº de ações RENNER-> 24.1254523522316\n",
      "Nº de ações AREZZO-> 12.586532410320956\n",
      "Nº de ações GUAR-> 58.105752469494476\n",
      "Nº de ações VIA VAREJO-> 82.64462809917356\n"
     ]
    }
   ],
   "source": [
    "print(\"Nº de ações MGLU -> {}\".format(qtd_mglu))\n",
    "print(\"Nº de ações RENNER-> {}\".format(qtd_renner))\n",
    "print(\"Nº de ações AREZZO-> {}\".format(qtd_arz))\n",
    "print(\"Nº de ações GUAR-> {}\".format(qtd_guar))\n",
    "print(\"Nº de ações VIA VAREJO-> {}\".format(qtd_vvar))"
   ]
  },
  {
   "cell_type": "code",
   "execution_count": 28,
   "metadata": {},
   "outputs": [],
   "source": [
    "div_mglu = qtd_mglu * 0.28\n",
    "div_renner = qtd_renner * 0.17\n",
    "div_arz = qtd_arz * 0.03\n",
    "div_guar = qtd_guar * 0.20\n",
    "div_vvar = qtd_vvar * 0.01"
   ]
  },
  {
   "cell_type": "code",
   "execution_count": 29,
   "metadata": {},
   "outputs": [
    {
     "data": {
      "text/html": [
       "<div>\n",
       "<style scoped>\n",
       "    .dataframe tbody tr th:only-of-type {\n",
       "        vertical-align: middle;\n",
       "    }\n",
       "\n",
       "    .dataframe tbody tr th {\n",
       "        vertical-align: top;\n",
       "    }\n",
       "\n",
       "    .dataframe thead th {\n",
       "        text-align: right;\n",
       "    }\n",
       "</style>\n",
       "<table border=\"1\" class=\"dataframe\">\n",
       "  <thead>\n",
       "    <tr style=\"text-align: right;\">\n",
       "      <th></th>\n",
       "      <th>Empresa</th>\n",
       "      <th>Mglu</th>\n",
       "      <th>Renner</th>\n",
       "      <th>Arezzo</th>\n",
       "      <th>Guar</th>\n",
       "      <th>Vvar</th>\n",
       "    </tr>\n",
       "  </thead>\n",
       "  <tbody>\n",
       "    <tr>\n",
       "      <th>0</th>\n",
       "      <td>Qtd</td>\n",
       "      <td>50.25</td>\n",
       "      <td>24.13</td>\n",
       "      <td>12.59</td>\n",
       "      <td>58.11</td>\n",
       "      <td>82.64</td>\n",
       "    </tr>\n",
       "    <tr>\n",
       "      <th>1</th>\n",
       "      <td>Cotação R$</td>\n",
       "      <td>19.90</td>\n",
       "      <td>41.45</td>\n",
       "      <td>79.45</td>\n",
       "      <td>17.21</td>\n",
       "      <td>12.10</td>\n",
       "    </tr>\n",
       "    <tr>\n",
       "      <th>2</th>\n",
       "      <td>Divdendos 21 R$</td>\n",
       "      <td>0.28</td>\n",
       "      <td>0.17</td>\n",
       "      <td>0.03</td>\n",
       "      <td>0.20</td>\n",
       "      <td>0.01</td>\n",
       "    </tr>\n",
       "    <tr>\n",
       "      <th>3</th>\n",
       "      <td>Div. Proj R$</td>\n",
       "      <td>14.07</td>\n",
       "      <td>4.10</td>\n",
       "      <td>0.38</td>\n",
       "      <td>11.62</td>\n",
       "      <td>0.83</td>\n",
       "    </tr>\n",
       "  </tbody>\n",
       "</table>\n",
       "</div>"
      ],
      "text/plain": [
       "           Empresa  Mglu  Renner  Arezzo  Guar  Vvar\n",
       "0              Qtd 50.25   24.13   12.59 58.11 82.64\n",
       "1       Cotação R$ 19.90   41.45   79.45 17.21 12.10\n",
       "2  Divdendos 21 R$  0.28    0.17    0.03  0.20  0.01\n",
       "3     Div. Proj R$ 14.07    4.10    0.38 11.62  0.83"
      ]
     },
     "execution_count": 29,
     "metadata": {},
     "output_type": "execute_result"
    }
   ],
   "source": [
    "resume = pd.DataFrame([['Qtd', qtd_mglu,qtd_renner,qtd_arz,qtd_guar,qtd_vvar], \n",
    "                        ['Cotação R$', acao_mglu,acao_renner,acao_arz,acao_guar,acao_vvar], \n",
    "                        ['Divdendos 21 R$', 0.28,0.17,0.03,0.20,0.01],  \n",
    "                        ['Div. Proj R$', div_mglu, div_renner, div_arz, div_guar, div_vvar]],  \n",
    "                        columns = ['Empresa','Mglu', 'Renner', 'Arezzo', 'Guar','Vvar'])\n",
    "resume"
   ]
  },
  {
   "cell_type": "code",
   "execution_count": null,
   "metadata": {},
   "outputs": [],
   "source": [
    "import nb"
   ]
  }
 ],
 "metadata": {
  "kernelspec": {
   "display_name": "Python 3",
   "language": "python",
   "name": "python3"
  },
  "language_info": {
   "codemirror_mode": {
    "name": "ipython",
    "version": 3
   },
   "file_extension": ".py",
   "mimetype": "text/x-python",
   "name": "python",
   "nbconvert_exporter": "python",
   "pygments_lexer": "ipython3",
   "version": "3.8.5"
  }
 },
 "nbformat": 4,
 "nbformat_minor": 4
}
